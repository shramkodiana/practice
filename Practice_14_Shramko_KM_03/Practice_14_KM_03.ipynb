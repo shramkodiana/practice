{
  "nbformat": 4,
  "nbformat_minor": 0,
  "metadata": {
    "colab": {
      "name": "Practice_14_KM_01.ipynb",
      "provenance": [],
      "collapsed_sections": []
    },
    "kernelspec": {
      "name": "python3",
      "display_name": "Python 3",
      "language": "python"
    }
  },
  "cells": [
    {
      "cell_type": "markdown",
      "metadata": {
        "id": "FMqboNwO4rVs"
      },
      "source": [
        "# **Курс \"Програмування на мові Python\"**\n",
        "\n",
        "##### Викладачі:\n",
        "##### Борисенко Павло Борисович\n",
        "##### Щьоголєв Максим Олегович\n"
      ]
    },
    {
      "cell_type": "markdown",
      "metadata": {
        "id": "A2T6MigL5Z06"
      },
      "source": [
        "## **Практичне зайняття №14**\n",
        "\n",
        "### Тема: \"Робота з файлами\""
      ]
    },
    {
      "cell_type": "markdown",
      "metadata": {
        "id": "cfCdgK2zXm7e"
      },
      "source": [
        "### **Завдання 1 (1,5 бали)**\n",
        "\n",
        "У 1939 році друком вийшов роман американського письменика Ернеста Вінсента Райта \"Ґедсбі\". Особливу увагу публіки він здобув через те, що письменник жодного разу не використав у романі літеру \"e\" (роман складається з більше ніж 50,000 слів), яка є найбільш вживаною літерою в англійській мові.\n",
        "\n",
        "Порахуйте кількість входжень кожної літери у текст роману. Виведіть список літер англійського алфавіту, а також інформацію про те, скільки відсотків від усіх літер тексту складає кожна літера алфавіту.\n",
        "\n",
        "Зауваження:\n",
        "\n",
        "1. Програма має ігнорувати будь-які символи, окрім літер.\n",
        "\n",
        "2. Переведіть усі літери у верхній або у нижній регістр.\n",
        "\n",
        "3. Під час виведення відсортуйте літери у порядку зменшення їхнього відсотка. Літера \"e\" має стояти на останньому місці у цьому списку.\n",
        "\n",
        "4. Виведіть перші 5 та останні 5 літер відсортованого списку разом з відсотковими значеннями, що їм відповідають."
      ]
    },
    {
      "cell_type": "code",
      "metadata": {
        "tags": [],
        "id": "u4-fHJJ6U462"
      },
      "source": [
        "file = open('gadsby.txt', 'r+')\n",
        "letters = \"abcdefghijklmnopqrstuvwxyz\"\n",
        "letters = list(letters)\n",
        "file = file.read()\n",
        "f = file.lower()\n",
        "listOfLetters = []\n",
        "for l in f:\n",
        "    if l.isalpha():\n",
        "        listOfLetters.append(l)\n",
        "result = {}\n",
        "helpList = []\n",
        "for i in letters:\n",
        "    amount = 0\n",
        "    for n in listOfLetters:\n",
        "        if n == i:\n",
        "            amount += 1\n",
        "    percents = round(amount/len(listOfLetters) * 100, 2)\n",
        "    helpList.append(percents)\n",
        "    result[percents] = i\n",
        "fin = []\n",
        "while len(helpList) >= 1:\n",
        "    k = max(helpList)\n",
        "    if k in result.keys():\n",
        "        a = list(result[k])\n",
        "        a.append(k)\n",
        "        fin.append(a)\n",
        "    helpList.remove(k)\n",
        "for i in fin:\n",
        "    print(i)\n",
        "print(\"Перші 5 літер відсортованого списку та їх значення:\")\n",
        "print(fin[:5])\n",
        "print(\"Останні 5 літер відсортованого списку та їх значення:\")\n",
        "print(fin[-5:])"
      ],
      "execution_count": 1,
      "outputs": [
        {
          "output_type": "stream",
          "name": "stdout",
          "text": [
            "['a', 10.89]\n['o', 10.37]\n['i', 8.79]\n['n', 8.56]\n['t', 8.53]\n['s', 6.96]\n['l', 5.29]\n['h', 4.92]\n['r', 4.79]\n['u', 4.13]\n['d', 4.11]\n['g', 3.57]\n['y', 3.17]\n['w', 2.79]\n['c', 2.67]\n['f', 2.15]\n['b', 2.13]\n['m', 2.09]\n['p', 1.91]\n['k', 1.17]\n['v', 0.34]\n['e', 0.23]\n['j', 0.22]\n['z', 0.11]\n['x', 0.08]\n['q', 0.05]\nПерші 5 літер відсортованого списку та їх значення:\n[['a', 10.89], ['o', 10.37], ['i', 8.79], ['n', 8.56], ['t', 8.53]]\nОстанні 5 літер відсортованого списку та їх значення:\n[['e', 0.23], ['j', 0.22], ['z', 0.11], ['x', 0.08], ['q', 0.05]]\n"
          ]
        }
      ]
    },
    {
      "cell_type": "markdown",
      "metadata": {
        "id": "A34oz70eU463"
      },
      "source": [
        "### **Завдання 2 (1,5 бали)**\n",
        "\n",
        "Створіть CSV-файл, що буде містити від 5 до 10 пісень (творів) вашого улюбленого музиканта. Назва файлу - ім'я музиканта (композитора) або назва гурту.\n",
        "\n",
        "1. Обов'язково додайте до файлу рядок з назвами двох колонок (Song, Year) або (Composition, Year).\n",
        "\n",
        "2. Після запису файлу роздрукуйте назву файлу та усі наявні у файлі рядки (включно із заголовками).\n",
        "\n",
        "3. Для запису та зчитування рядків скористайтесь функціями csv.DictWriter() та csv.DictReader()."
      ]
    },
    {
      "cell_type": "code",
      "metadata": {
        "id": "MEJIrG1GU463"
      },
      "source": [
        "import csv\n",
        "with open('Panic_at_the_disco.csv', 'w+', newline='') as csvfile:\n",
        "    fieldnames = ['Song', 'Year']\n",
        "    writer = csv.DictWriter(csvfile, fieldnames=fieldnames)\n",
        "    writer.writeheader()\n",
        "    writer.writerow({'Song': '\"Camisado\"',\n",
        "                     'Year': '2005'})\n",
        "    writer.writerow({'Song': '\"Time to dance\"',\n",
        "                     'Year': '2005'})\n",
        "    writer.writerow({'Song': '\"Nine in the afternoon\"',\n",
        "                     'Year': '2008'})\n",
        "    writer.writerow({'Song': '\"High hopes\"',\n",
        "                     'Year': '2018'})\n",
        "    writer.writerow({'Song': '\"House of memories\"',\n",
        "                     'Year': '2016'})\n",
        "    writer.writerow({'Song': '\"I Write Sins Not Tragedies\"',\n",
        "                     'Year': '2005'})\n",
        "    writer.writerow({'Song': '\"Crazy = genius\"',\n",
        "                     'Year': '2016'})\n",
        "with open('Panic_at_the_disco.csv', newline='') as csvfile:\n",
        "    reader = csv.DictReader(csvfile, fieldnames=fieldnames)\n",
        "    for row in reader:\n",
        "        print(row['Song'], row['Year'])"
      ],
      "execution_count": 1,
      "outputs": [
        {
          "output_type": "stream",
          "name": "stdout",
          "text": [
            "Song Year\n\"Camisado\" 2005\n\"Time to dance\" 2005\n\"Nine in the afternoon\" 2008\n\"High hopes\" 2018\n\"House of memories\" 2016\n\"I Write Sins Not Tragedies\" 2005\n\"Crazy = genius\" 2016\n"
          ]
        }
      ]
    },
    {
      "cell_type": "markdown",
      "metadata": {
        "id": "Jb-eSBsWU464"
      },
      "source": [
        "### **Завдання 3 (бонусне, 1 бал)**\n",
        "\n",
        "COCO Dataset - набір фотографій та анотацій до них. Його дуже часто використовують для тренування класифікаторів, призначених для розпізнавання об'єктів та визначення ключових точок на зображеннях.\n",
        "\n",
        "Завантажте файли з описом фотографій COCO Dataset за посиланням: http://images.cocodataset.org/annotations/image_info_test2017.zip\n",
        "\n",
        "1. Відкрийте файл image_info_test-dev2017.json. Інформація про фотографії з бази COCO міститься у полі \"images\". Інформація про категорії, на які розділені всі фотографії, міститься у полі \"categories\".\n",
        "\n",
        "2. Визначте кількість фотографій, інформацію про які можна знайти у цьому файлі (кількість елементів, що відповідають ключу \"images\").\n",
        "\n",
        "3. Визначте кількість наявних категорій (кількість елементів, що відповідають ключу \"categories\").\n",
        "\n",
        "4. Виведіть посилання на фотографію 000000000001.jpg (\"coco_url\"), висоту цієї фотографії (\"height\"), ширину (\"width\") та її ідентифікатор (\"id\").\n",
        "\n",
        "5. Опис структури JSON-файлу для набору фотографій COCO можна знайти за посиланням: https://cocodataset.org/#format-data\n",
        "\n",
        "6. Щоб перевірити правильність результатів, у VS Code встановіть розширення JSON та відкрийте файл image_info_test-dev2017.json. Розширення автоматично визначає кількість елементів у кожному полі."
      ]
    },
    {
      "cell_type": "code",
      "metadata": {
        "id": "74C6WKB_U464"
      },
      "source": [],
      "execution_count": null,
      "outputs": []
    }
  ]
}